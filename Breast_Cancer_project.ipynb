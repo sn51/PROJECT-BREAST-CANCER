{
  "nbformat": 4,
  "nbformat_minor": 0,
  "metadata": {
    "colab": {
      "name": "Breast Cancer project.ipynb",
      "provenance": []
    },
    "kernelspec": {
      "name": "python3",
      "display_name": "Python 3"
    }
  },
  "cells": [
    {
      "cell_type": "markdown",
      "metadata": {
        "id": "5OhYj4Lf7TEs"
      },
      "source": [
        "**IMPORTING LIBRARIES**"
      ]
    },
    {
      "cell_type": "code",
      "metadata": {
        "id": "C55N777q50bu"
      },
      "source": [
        "import pandas as pd"
      ],
      "execution_count": 1,
      "outputs": []
    },
    {
      "cell_type": "markdown",
      "metadata": {
        "id": "nTfBtWfE7Qrn"
      },
      "source": [
        "**IMPORTING THE DATASET**"
      ]
    },
    {
      "cell_type": "code",
      "metadata": {
        "id": "Qo2l4XBB61vM"
      },
      "source": [
        "dataset = pd.read_csv(\"/breast_cancer.csv\")\r\n",
        "X = dataset.iloc[:,1:-1].values\r\n",
        "y = dataset.iloc[:,-1].values   "
      ],
      "execution_count": 8,
      "outputs": []
    },
    {
      "cell_type": "markdown",
      "metadata": {
        "id": "TWyWwf58ActX"
      },
      "source": [
        "**SPLITTING THE DATASET INTO THE TRAINING SET AND TEST SET**"
      ]
    },
    {
      "cell_type": "code",
      "metadata": {
        "id": "Sdg5C3xg6Vti"
      },
      "source": [
        "from sklearn.model_selection import train_test_split\r\n",
        "X_train, X_test, y_train, y_test = train_test_split(X,y,test_size=0.2,random_state=0)"
      ],
      "execution_count": 9,
      "outputs": []
    },
    {
      "cell_type": "markdown",
      "metadata": {
        "id": "Lo1a3aVN-dTO"
      },
      "source": [
        "**TRAINING THE LOGISTIC REGRESSION MODEL ON THE TRAINING SET**"
      ]
    },
    {
      "cell_type": "code",
      "metadata": {
        "colab": {
          "base_uri": "https://localhost:8080/"
        },
        "id": "EYhw9OoqDSrN",
        "outputId": "e1c0d69d-5fc9-4250-d1bb-0d32551b5be0"
      },
      "source": [
        "from sklearn.linear_model import LogisticRegression\r\n",
        "classifier = LogisticRegression(random_state=0)   # creating a LR model\r\n",
        "classifier.fit(X_train,y_train) # training of LR model by calling fit model from our classifier object\r\n",
        "\r\n",
        "\r\n"
      ],
      "execution_count": 10,
      "outputs": [
        {
          "output_type": "execute_result",
          "data": {
            "text/plain": [
              "LogisticRegression(C=1.0, class_weight=None, dual=False, fit_intercept=True,\n",
              "                   intercept_scaling=1, l1_ratio=None, max_iter=100,\n",
              "                   multi_class='auto', n_jobs=None, penalty='l2',\n",
              "                   random_state=0, solver='lbfgs', tol=0.0001, verbose=0,\n",
              "                   warm_start=False)"
            ]
          },
          "metadata": {
            "tags": []
          },
          "execution_count": 10
        }
      ]
    },
    {
      "cell_type": "markdown",
      "metadata": {
        "id": "iDiCz3kFFIZO"
      },
      "source": [
        "**PREDICTING THE TEST SET RESULTS**"
      ]
    },
    {
      "cell_type": "code",
      "metadata": {
        "id": "7331dDPNFG0M"
      },
      "source": [
        "y_pred = classifier.predict(X_test)"
      ],
      "execution_count": 13,
      "outputs": []
    },
    {
      "cell_type": "markdown",
      "metadata": {
        "id": "ih6Tq81rGNY3"
      },
      "source": [
        "**MAKING THE CONFUSION MATRIX**"
      ]
    },
    {
      "cell_type": "code",
      "metadata": {
        "colab": {
          "base_uri": "https://localhost:8080/"
        },
        "id": "9noIBbFDF_MH",
        "outputId": "14070814-4a93-4b55-b17f-4df21e9525d7"
      },
      "source": [
        "# HOW MANY CORRECT PREDICTION ARE THERE AND HOW MANY INCORRECT PREDICTION IS THERE WE WILL MAKE IT\r\n",
        "from sklearn.metrics import confusion_matrix\r\n",
        "cm = confusion_matrix(y_test,y_pred)\r\n",
        "print(cm)"
      ],
      "execution_count": 17,
      "outputs": [
        {
          "output_type": "stream",
          "text": [
            "[[84  3]\n",
            " [ 3 47]]\n"
          ],
          "name": "stdout"
        }
      ]
    },
    {
      "cell_type": "code",
      "metadata": {
        "colab": {
          "base_uri": "https://localhost:8080/"
        },
        "id": "YvzkeyJKHsp0",
        "outputId": "71ebc72f-6c91-4ec2-d517-6e42c14dd4db"
      },
      "source": [
        "(84+47)/(84+47+3+3) # TO GET ACCURACY"
      ],
      "execution_count": 18,
      "outputs": [
        {
          "output_type": "execute_result",
          "data": {
            "text/plain": [
              "0.9562043795620438"
            ]
          },
          "metadata": {
            "tags": []
          },
          "execution_count": 18
        }
      ]
    },
    {
      "cell_type": "markdown",
      "metadata": {
        "id": "DVauIomcHitu"
      },
      "source": [
        "**COMPUTINNG THE ACCURACY WITH K-FOLD CROSS VALIDATION**"
      ]
    },
    {
      "cell_type": "code",
      "metadata": {
        "colab": {
          "base_uri": "https://localhost:8080/"
        },
        "id": "IQ7A7ySUHBNw",
        "outputId": "d9827438-3960-42c7-8206-7eb5dbcd5f21"
      },
      "source": [
        "from sklearn.model_selection import cross_val_score\r\n",
        "accuracy = cross_val_score(estimator= classifier,X = X_train , y= y_train, cv = 10)\r\n",
        "print(\"Accuracy: {:.2f}%\".format(accuracy.mean()*100))  #want only 2 decimal\r\n",
        "print(\"Standard deviation: {:.2f}%\".format(accuracy.std()*100))"
      ],
      "execution_count": 21,
      "outputs": [
        {
          "output_type": "stream",
          "text": [
            "Accuracy: 96.70%\n",
            "Standard deviation: 1.97%\n"
          ],
          "name": "stdout"
        }
      ]
    },
    {
      "cell_type": "markdown",
      "metadata": {
        "id": "UCRLzF14Kt0q"
      },
      "source": [
        "**SUMMARY:- AS WE CAN SEE HERE THAT OUR LOGISTIC REGRESSION MODEL IS 96.70% ACCURATE AND S.D IS VERY LESS SO WE CAN INFER THAT OUR MODEL IS PERFORMING WELL FOR BREAST CANCER PREDICTION AND THEREFORE IT CAN BE TOTALLY VALIDATED BY DOCTOR OR MEDICAL INSITITUTIONS  ** "
      ]
    },
    {
      "cell_type": "code",
      "metadata": {
        "id": "3M0DWswoKErn"
      },
      "source": [
        ""
      ],
      "execution_count": null,
      "outputs": []
    },
    {
      "cell_type": "markdown",
      "metadata": {
        "id": "Otac7D4YKsnk"
      },
      "source": [
        ""
      ]
    }
  ]
}