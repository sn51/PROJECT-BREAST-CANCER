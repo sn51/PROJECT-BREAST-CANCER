{
  "nbformat": 4,
  "nbformat_minor": 0,
  "metadata": {
    "colab": {
      "name": "Breast Cancer project.ipynb",
      "provenance": []
    },
    "kernelspec": {
      "name": "python3",
      "display_name": "Python 3"
    }
  },
  "cells": [
    {
      "cell_type": "markdown",
      "metadata": {
        "id": "5OhYj4Lf7TEs"
      },
      "source": [
        "**IMPORTING LIBRARIES**"
      ]
    },
    {
      "cell_type": "code",
      "metadata": {
        "id": "C55N777q50bu"
      },
      "source": [
        "# for performing linear algebra\r\n",
        "import numpy as np\r\n",
        "# for importing dataset (data preprocessing)\r\n",
        "import pandas as pd\r\n",
        "# for data visulaization\r\n",
        "import matplotlib.pyplot as plt \r\n"
      ],
      "execution_count": 28,
      "outputs": []
    },
    {
      "cell_type": "markdown",
      "metadata": {
        "id": "nTfBtWfE7Qrn"
      },
      "source": [
        "**IMPORTING THE DATASET**"
      ]
    },
    {
      "cell_type": "code",
      "metadata": {
        "id": "Qo2l4XBB61vM",
        "colab": {
          "base_uri": "https://localhost:8080/",
          "height": 221
        },
        "outputId": "ab3b7568-97b2-4622-ba4e-4ec3c5d0e70f"
      },
      "source": [
        "dataset = pd.read_csv(\"/content/breast_cancer.csv\")\r\n",
        "\r\n",
        "X = dataset.iloc[:,1:-1].values  # x values are trimmed\r\n",
        "y = dataset.iloc[:,-1].values   # y values are also trimmed\r\n",
        "\r\n",
        "dataset.head()"
      ],
      "execution_count": 29,
      "outputs": [
        {
          "output_type": "execute_result",
          "data": {
            "text/html": [
              "<div>\n",
              "<style scoped>\n",
              "    .dataframe tbody tr th:only-of-type {\n",
              "        vertical-align: middle;\n",
              "    }\n",
              "\n",
              "    .dataframe tbody tr th {\n",
              "        vertical-align: top;\n",
              "    }\n",
              "\n",
              "    .dataframe thead th {\n",
              "        text-align: right;\n",
              "    }\n",
              "</style>\n",
              "<table border=\"1\" class=\"dataframe\">\n",
              "  <thead>\n",
              "    <tr style=\"text-align: right;\">\n",
              "      <th></th>\n",
              "      <th>Sample code number</th>\n",
              "      <th>Clump Thickness</th>\n",
              "      <th>Uniformity of Cell Size</th>\n",
              "      <th>Uniformity of Cell Shape</th>\n",
              "      <th>Marginal Adhesion</th>\n",
              "      <th>Single Epithelial Cell Size</th>\n",
              "      <th>Bare Nuclei</th>\n",
              "      <th>Bland Chromatin</th>\n",
              "      <th>Normal Nucleoli</th>\n",
              "      <th>Mitoses</th>\n",
              "      <th>Class</th>\n",
              "    </tr>\n",
              "  </thead>\n",
              "  <tbody>\n",
              "    <tr>\n",
              "      <th>0</th>\n",
              "      <td>1000025</td>\n",
              "      <td>5</td>\n",
              "      <td>1</td>\n",
              "      <td>1</td>\n",
              "      <td>1</td>\n",
              "      <td>2</td>\n",
              "      <td>1</td>\n",
              "      <td>3</td>\n",
              "      <td>1</td>\n",
              "      <td>1</td>\n",
              "      <td>2</td>\n",
              "    </tr>\n",
              "    <tr>\n",
              "      <th>1</th>\n",
              "      <td>1002945</td>\n",
              "      <td>5</td>\n",
              "      <td>4</td>\n",
              "      <td>4</td>\n",
              "      <td>5</td>\n",
              "      <td>7</td>\n",
              "      <td>10</td>\n",
              "      <td>3</td>\n",
              "      <td>2</td>\n",
              "      <td>1</td>\n",
              "      <td>2</td>\n",
              "    </tr>\n",
              "    <tr>\n",
              "      <th>2</th>\n",
              "      <td>1015425</td>\n",
              "      <td>3</td>\n",
              "      <td>1</td>\n",
              "      <td>1</td>\n",
              "      <td>1</td>\n",
              "      <td>2</td>\n",
              "      <td>2</td>\n",
              "      <td>3</td>\n",
              "      <td>1</td>\n",
              "      <td>1</td>\n",
              "      <td>2</td>\n",
              "    </tr>\n",
              "    <tr>\n",
              "      <th>3</th>\n",
              "      <td>1016277</td>\n",
              "      <td>6</td>\n",
              "      <td>8</td>\n",
              "      <td>8</td>\n",
              "      <td>1</td>\n",
              "      <td>3</td>\n",
              "      <td>4</td>\n",
              "      <td>3</td>\n",
              "      <td>7</td>\n",
              "      <td>1</td>\n",
              "      <td>2</td>\n",
              "    </tr>\n",
              "    <tr>\n",
              "      <th>4</th>\n",
              "      <td>1017023</td>\n",
              "      <td>4</td>\n",
              "      <td>1</td>\n",
              "      <td>1</td>\n",
              "      <td>3</td>\n",
              "      <td>2</td>\n",
              "      <td>1</td>\n",
              "      <td>3</td>\n",
              "      <td>1</td>\n",
              "      <td>1</td>\n",
              "      <td>2</td>\n",
              "    </tr>\n",
              "  </tbody>\n",
              "</table>\n",
              "</div>"
            ],
            "text/plain": [
              "   Sample code number  Clump Thickness  ...  Mitoses  Class\n",
              "0             1000025                5  ...        1      2\n",
              "1             1002945                5  ...        1      2\n",
              "2             1015425                3  ...        1      2\n",
              "3             1016277                6  ...        1      2\n",
              "4             1017023                4  ...        1      2\n",
              "\n",
              "[5 rows x 11 columns]"
            ]
          },
          "metadata": {
            "tags": []
          },
          "execution_count": 29
        }
      ]
    },
    {
      "cell_type": "code",
      "metadata": {
        "colab": {
          "base_uri": "https://localhost:8080/"
        },
        "id": "9hMH7ldEtHmi",
        "outputId": "9f1d08fb-ac43-41e8-fd11-c9f4826d7b12"
      },
      "source": [
        "dataset.info()"
      ],
      "execution_count": 30,
      "outputs": [
        {
          "output_type": "stream",
          "text": [
            "<class 'pandas.core.frame.DataFrame'>\n",
            "RangeIndex: 683 entries, 0 to 682\n",
            "Data columns (total 11 columns):\n",
            " #   Column                       Non-Null Count  Dtype\n",
            "---  ------                       --------------  -----\n",
            " 0   Sample code number           683 non-null    int64\n",
            " 1   Clump Thickness              683 non-null    int64\n",
            " 2   Uniformity of Cell Size      683 non-null    int64\n",
            " 3   Uniformity of Cell Shape     683 non-null    int64\n",
            " 4   Marginal Adhesion            683 non-null    int64\n",
            " 5   Single Epithelial Cell Size  683 non-null    int64\n",
            " 6   Bare Nuclei                  683 non-null    int64\n",
            " 7   Bland Chromatin              683 non-null    int64\n",
            " 8   Normal Nucleoli              683 non-null    int64\n",
            " 9   Mitoses                      683 non-null    int64\n",
            " 10  Class                        683 non-null    int64\n",
            "dtypes: int64(11)\n",
            "memory usage: 58.8 KB\n"
          ],
          "name": "stdout"
        }
      ]
    },
    {
      "cell_type": "code",
      "metadata": {
        "colab": {
          "base_uri": "https://localhost:8080/"
        },
        "id": "Su0PJotQCKve",
        "outputId": "3eef8bd4-3cc1-4d04-c49c-e8ba83b41fff"
      },
      "source": [
        "print(\"Cancer data set dimensions : {}\".format(dataset.shape))\r\n",
        "dataset.groupby('Class').size()"
      ],
      "execution_count": 31,
      "outputs": [
        {
          "output_type": "stream",
          "text": [
            "Cancer data set dimensions : (683, 11)\n"
          ],
          "name": "stdout"
        },
        {
          "output_type": "execute_result",
          "data": {
            "text/plain": [
              "Class\n",
              "2    444\n",
              "4    239\n",
              "dtype: int64"
            ]
          },
          "metadata": {
            "tags": []
          },
          "execution_count": 31
        }
      ]
    },
    {
      "cell_type": "markdown",
      "metadata": {
        "id": "c4Zx5ysGFvYr"
      },
      "source": [
        "**VISUALIZATION**"
      ]
    },
    {
      "cell_type": "code",
      "metadata": {
        "colab": {
          "base_uri": "https://localhost:8080/",
          "height": 1000
        },
        "id": "EXkkW5dXEuiz",
        "outputId": "5425cf42-5927-4540-caef-0b2306864ea3"
      },
      "source": [
        "dataset.groupby('Class').hist(figsize=(12,12))\r\n",
        "\r\n",
        "dataset.isnull().sum()\r\n",
        "dataset.isna().sum()\r\n",
        "\r\n",
        "dataframe = pd.DataFrame(y)"
      ],
      "execution_count": 32,
      "outputs": [
        {
          "output_type": "display_data",
          "data": {
            "image/png": "[encoded data removed]",
            "text/plain": [
              "<Figure size 864x864 with 12 Axes>"
            ]
          },
          "metadata": {
            "tags": [],
            "needs_background": "light"
          }
        },
        {
          "output_type": "display_data",
          "data": {
            "image/png": "[encoded data removed]",
            "text/plain": [
              "<Figure size 864x864 with 12 Axes>"
            ]
          },
          "metadata": {
            "tags": [],
            "needs_background": "light"
          }
        }
      ]
    },
    {
      "cell_type": "markdown",
      "metadata": {
        "id": "TWyWwf58ActX"
      },
      "source": [
        "**SPLITTING THE DATASET INTO THE TRAINING SET AND TEST SET**"
      ]
    },
    {
      "cell_type": "code",
      "metadata": {
        "id": "Sdg5C3xg6Vti"
      },
      "source": [
        "from sklearn.model_selection import train_test_split\r\n",
        "X_train, X_test, y_train, y_test = train_test_split(X,y,test_size=0.2,random_state=42)\r\n",
        "\r\n",
        "\r\n",
        "\r\n",
        "\r\n",
        " "
      ],
      "execution_count": 33,
      "outputs": []
    },
    {
      "cell_type": "markdown",
      "metadata": {
        "id": "Lo1a3aVN-dTO"
      },
      "source": [
        "**TRAINING THE LOGISTIC REGRESSION, K NEIGHBORS CLASSIFIER, SVM,DESICION TREE CLASSIFIER AND RANDOM FOREST CLASSIFIER MODEL ON THE TRAINING SET**"
      ]
    },
    {
      "cell_type": "code",
      "metadata": {
        "colab": {
          "base_uri": "https://localhost:8080/"
        },
        "id": "EYhw9OoqDSrN",
        "outputId": "c8e7dee1-eb17-4c70-ec9d-22e79e644ea6"
      },
      "source": [
        "# USING LOGISTIC REGRESSION MODEL\r\n",
        "from sklearn.linear_model import LogisticRegression\r\n",
        "classifier = LogisticRegression(random_state=0)   # creating a LR model\r\n",
        "classifier.fit(X_train,y_train) # training of LR model by calling fit model from our classifier object\r\n",
        "\r\n",
        "# USING K NEIBHBORS CLASSIFIER  \r\n",
        "from sklearn.neighbors import KNeighborsClassifier\r\n",
        "classifier = KNeighborsClassifier(n_neighbors = 5, metric ='minkowski', p =2)\r\n",
        "classifier.fit(X_train,y_train)\r\n",
        "\r\n",
        " #USING SUPPORT VECTOR MACHINE\r\n",
        "from sklearn.svm import SVC\r\n",
        "classifier = SVC(kernel = 'linear', random_state = 0)\r\n",
        "classifier.fit(X_train, y_train)\r\n",
        "\r\n",
        "#USING DECISION TREE CLASSIFIER\r\n",
        "from sklearn.tree import DecisionTreeClassifier\r\n",
        "classifier = DecisionTreeClassifier(criterion = 'entropy', random_state = 0)\r\n",
        "classifier.fit(X_train, y_train)\r\n",
        "\r\n",
        "# USING RANDOM FOREST CLASSIFIER\r\n",
        "from sklearn.ensemble import RandomForestClassifier\r\n",
        "classifier = RandomForestClassifier(n_estimators = 10, criterion = 'entropy', random_state = 0)\r\n",
        "classifier.fit(X_train, y_train)\r\n"
      ],
      "execution_count": 38,
      "outputs": [
        {
          "output_type": "execute_result",
          "data": {
            "text/plain": [
              "DecisionTreeClassifier(ccp_alpha=0.0, class_weight=None, criterion='entropy',\n",
              "                       max_depth=None, max_features=None, max_leaf_nodes=None,\n",
              "                       min_impurity_decrease=0.0, min_impurity_split=None,\n",
              "                       min_samples_leaf=1, min_samples_split=2,\n",
              "                       min_weight_fraction_leaf=0.0, presort='deprecated',\n",
              "                       random_state=0, splitter='best')"
            ]
          },
          "metadata": {
            "tags": []
          },
          "execution_count": 38
        }
      ]
    },
    {
      "cell_type": "markdown",
      "metadata": {
        "id": "iDiCz3kFFIZO"
      },
      "source": [
        "**PREDICTING THE TEST SET RESULTS**"
      ]
    },
    {
      "cell_type": "code",
      "metadata": {
        "id": "7331dDPNFG0M"
      },
      "source": [
        "y_pred = classifier.predict(X_test)\r\n"
      ],
      "execution_count": 39,
      "outputs": []
    },
    {
      "cell_type": "markdown",
      "metadata": {
        "id": "ih6Tq81rGNY3"
      },
      "source": [
        "**MAKING THE CONFUSION MATRIX**"
      ]
    },
    {
      "cell_type": "code",
      "metadata": {
        "colab": {
          "base_uri": "https://localhost:8080/"
        },
        "id": "9noIBbFDF_MH",
        "outputId": "a981b5e4-7994-42c9-dcfe-4bdc9ef5a68b"
      },
      "source": [
        "# HOW MANY CORRECT PREDICTION ARE THERE AND HOW MANY INCORRECT PREDICTION IS THERE WE WILL MAKE IT\r\n",
        "from sklearn.metrics import confusion_matrix\r\n",
        "cm = confusion_matrix(y_test,y_pred)\r\n",
        "print(cm)"
      ],
      "execution_count": 40,
      "outputs": [
        {
          "output_type": "stream",
          "text": [
            "[[78  1]\n",
            " [ 5 53]]\n"
          ],
          "name": "stdout"
        }
      ]
    },
    {
      "cell_type": "markdown",
      "metadata": {
        "id": "DVauIomcHitu"
      },
      "source": [
        "**COMPUTINNG THE ACCURACY WITH K-FOLD CROSS VALIDATION**"
      ]
    },
    {
      "cell_type": "code",
      "metadata": {
        "colab": {
          "base_uri": "https://localhost:8080/"
        },
        "id": "IQ7A7ySUHBNw",
        "outputId": "82958944-051a-4001-8ad9-7f999d9ad436"
      },
      "source": [
        "from sklearn.model_selection import cross_val_score\r\n",
        "accuracy = cross_val_score(estimator= classifier,X = X_train , y= y_train, cv = 10)\r\n",
        "print(\"Accuracy: {:.2f}%\".format(accuracy.mean()*100))  #want only 2 decimal\r\n",
        "print(\"Standard deviation: {:.2f}%\".format(accuracy.std()*100))"
      ],
      "execution_count": 41,
      "outputs": [
        {
          "output_type": "stream",
          "text": [
            "Accuracy: 95.04%\n",
            "Standard deviation: 1.68%\n"
          ],
          "name": "stdout"
        }
      ]
    },
    {
      "cell_type": "markdown",
      "metadata": {
        "id": "UCRLzF14Kt0q"
      },
      "source": [
        "**SUMMARY:- AS WE CAN SEE HERE THAT OUR LOGISTIC REGRESSION MODEL IS 96.70% ACCURATE AND S.D IS VERY LESS SO WE CAN INFER THAT OUR MODEL IS PERFORMING WELL FOR BREAST CANCER PREDICTION AND THEREFORE IT CAN BE TOTALLY VALIDATED BY DOCTOR OR MEDICAL INSITITUTIONS  ** "
      ]
    },
    {
      "cell_type": "code",
      "metadata": {
        "id": "3M0DWswoKErn"
      },
      "source": [
        ""
      ],
      "execution_count": null,
      "outputs": []
    },
    {
      "cell_type": "markdown",
      "metadata": {
        "id": "Otac7D4YKsnk"
      },
      "source": [
        ""
      ]
    }
  ]
}